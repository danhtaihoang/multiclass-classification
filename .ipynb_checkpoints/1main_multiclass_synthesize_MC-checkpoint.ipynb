{
 "cells": [
  {
   "cell_type": "markdown",
   "metadata": {},
   "source": [
    "## Synthetic data"
   ]
  },
  {
   "cell_type": "code",
   "execution_count": 1,
   "metadata": {},
   "outputs": [],
   "source": [
    "import numpy as np\n",
    "#from sklearn.model_selection import train_test_split\n",
    "#from sklearn.model_selection import KFold\n",
    "#from sklearn.utils import shuffle\n",
    "#from sklearn.metrics import accuracy_score\n",
    "\n",
    "#from synthesize_data import synthesize_data\n",
    "#import expectation_reflection as ER\n",
    "#from sklearn.linear_model import LogisticRegression\n",
    "#from sklearn.naive_bayes import GaussianNB\n",
    "#from sklearn.tree import DecisionTreeClassifier\n",
    "#from sklearn.ensemble import RandomForestClassifier\n",
    "\n",
    "import matplotlib.pyplot as plt\n",
    "%matplotlib inline"
   ]
  },
  {
   "cell_type": "code",
   "execution_count": 2,
   "metadata": {},
   "outputs": [],
   "source": [
    "np.random.seed(1)"
   ]
  },
  {
   "cell_type": "code",
   "execution_count": 3,
   "metadata": {},
   "outputs": [],
   "source": [
    "l = 1000 ; n = 20 ; m = 3; g = 1."
   ]
  },
  {
   "cell_type": "code",
   "execution_count": 4,
   "metadata": {},
   "outputs": [],
   "source": [
    "def synthesize_data(l,n,m,g):\n",
    "    X = 2*np.random.rand(l,n)-1\n",
    "    w = np.random.normal(0.,g,size=(n,m))\n",
    "    w -= w.mean(axis=1)[:,np.newaxis]  # sum_j w_ji to each i = 0 \n",
    "    \n",
    "    from sklearn.preprocessing import OneHotEncoder\n",
    "\n",
    "    y_ini = np.random.randint(0,m,size=l) # integer values\n",
    "    onehot_encoder = OneHotEncoder(sparse=False,categories='auto')\n",
    "    y = onehot_encoder.fit_transform(y_ini.reshape(-1,1))\n",
    "\n",
    "    nrepeat = 100*n*m\n",
    "    for irepeat in range(nrepeat):\n",
    "        h = X.dot(w)\n",
    "        k0 = np.argmax(y,axis=1)\n",
    "        for t in range(l):        \n",
    "            k = np.random.randint(0,m)\n",
    "            while k==k0[t]:\n",
    "                k = np.random.randint(0,m)\n",
    "\n",
    "            if np.exp(h[t,k] - h[t,k0[t]]) > np.random.rand():\n",
    "                y[t,:] = 0.\n",
    "                y[t,k] = 1.\n",
    "            \n",
    "    return X,y,w"
   ]
  },
  {
   "cell_type": "code",
   "execution_count": 5,
   "metadata": {},
   "outputs": [],
   "source": [
    "X,y,w0 = synthesize_data(l,n,m,g)"
   ]
  },
  {
   "cell_type": "code",
   "execution_count": 6,
   "metadata": {},
   "outputs": [],
   "source": [
    "#from sklearn.preprocessing import MinMaxScaler\n",
    "#X = MinMaxScaler().fit_transform(X)"
   ]
  },
  {
   "cell_type": "code",
   "execution_count": 7,
   "metadata": {},
   "outputs": [],
   "source": [
    "from scipy import linalg\n",
    "\n",
    "def fit(x,y,niter_max=10,lamda=0.0):\n",
    "    mx = x.shape[1]\n",
    "    my = y.shape[1]\n",
    "\n",
    "    y2 = 2*y-1\n",
    "\n",
    "    x_av = x.mean(axis=0)\n",
    "    dx = x - x_av\n",
    "    c = np.cov(dx,rowvar=False,bias=True)\n",
    "\n",
    "    # 2019.05.15: ridge regression\n",
    "    c += lamda*np.identity(mx)\n",
    "    c_inv = linalg.pinvh(c)\n",
    "\n",
    "    w = np.random.normal(0.0,1./np.sqrt(mx),size=(mx,my))\n",
    "    h0 = np.random.normal(0.0,1./np.sqrt(mx),size=my)\n",
    "\n",
    "    cost = np.full(niter_max,100.)         \n",
    "    for iloop in range(niter_max):\n",
    "        h = h0[np.newaxis,:] + x.dot(w)\n",
    "\n",
    "        p = np.exp(h)\n",
    "        \n",
    "        # normalize\n",
    "        p_sum = p.sum(axis=1)       \n",
    "        p /= p_sum[:,np.newaxis]        \n",
    "        h = np.log(p)\n",
    "        \n",
    "        #p2 = p_sum[:,np.newaxis] - p\n",
    "        p2 = 1. - p\n",
    "        h2 = np.log(p2)\n",
    "\n",
    "        hh2 = h-h2\n",
    "        model_ex = np.tanh(hh2/2)\n",
    "\n",
    "        cost[iloop] = ((y2 - model_ex)**2).mean()\n",
    "        if iloop > 0 and cost[iloop] >= cost[iloop-1]: break\n",
    "        #print(cost[iloop])\n",
    "\n",
    "        t = hh2 !=0    \n",
    "        h[t] = h2[t] + y2[t]*hh2[t]/model_ex[t]\n",
    "        h[~t] = h2[~t] + y2[~t]*2\n",
    "\n",
    "        h_av = h.mean(axis=0)\n",
    "        dh = h - h_av\n",
    "\n",
    "        dhdx = dh[:,np.newaxis,:]*dx[:,:,np.newaxis]\n",
    "        dhdx_av = dhdx.mean(axis=0)\n",
    "        w = c_inv.dot(dhdx_av)            \n",
    "\n",
    "        w -= w.mean(axis=0) \n",
    "\n",
    "        h0 = h_av - x_av.dot(w)\n",
    "        h0 -= h0.mean()\n",
    " \n",
    "    return w#,h0,cost,iloop"
   ]
  },
  {
   "cell_type": "code",
   "execution_count": 8,
   "metadata": {},
   "outputs": [],
   "source": [
    "w = fit(X,y,niter_max=50)"
   ]
  },
  {
   "cell_type": "code",
   "execution_count": 10,
   "metadata": {},
   "outputs": [
    {
     "data": {
      "text/plain": [
       "<matplotlib.collections.PathCollection at 0x7f0c4819d2b0>"
      ]
     },
     "execution_count": 10,
     "metadata": {},
     "output_type": "execute_result"
    },
    {
     "data": {
      "image/png": "[encoded data removed]",
      "text/plain": [
       "<Figure size 432x288 with 1 Axes>"
      ]
     },
     "metadata": {
      "needs_background": "light"
     },
     "output_type": "display_data"
    }
   ],
   "source": [
    "plt.plot([-2,2],[-2,2])\n",
    "plt.scatter(w0,w)"
   ]
  },
  {
   "cell_type": "code",
   "execution_count": null,
   "metadata": {},
   "outputs": [],
   "source": []
  }
 ],
 "metadata": {
  "kernelspec": {
   "display_name": "Python 3",
   "language": "python",
   "name": "python3"
  },
  "language_info": {
   "codemirror_mode": {
    "name": "ipython",
    "version": 3
   },
   "file_extension": ".py",
   "mimetype": "text/x-python",
   "name": "python",
   "nbconvert_exporter": "python",
   "pygments_lexer": "ipython3",
   "version": "3.7.3"
  }
 },
 "nbformat": 4,
 "nbformat_minor": 2
}
